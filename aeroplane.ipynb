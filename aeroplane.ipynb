{
 "cells": [
  {
   "cell_type": "code",
   "execution_count": 23,
   "metadata": {},
   "outputs": [],
   "source": [
    "import numpy as np\n",
    "import pandas as pd\n",
    "from sklearn.model_selection import train_test_split\n",
    "import matplotlib.pyplot as plt\n",
    "import seaborn as sns\n",
    "sns.set()\n",
    "from sklearn.preprocessing import StandardScaler"
   ]
  },
  {
   "cell_type": "code",
   "execution_count": 24,
   "metadata": {},
   "outputs": [],
   "source": [
    "data_train= pd.read_csv('./train.csv')"
   ]
  },
  {
   "cell_type": "code",
   "execution_count": 25,
   "metadata": {},
   "outputs": [],
   "source": [
    "data_test= pd.read_csv('./test.csv')"
   ]
  },
  {
   "cell_type": "code",
   "execution_count": 26,
   "metadata": {},
   "outputs": [
    {
     "data": {
      "text/html": [
       "<div>\n",
       "<style scoped>\n",
       "    .dataframe tbody tr th:only-of-type {\n",
       "        vertical-align: middle;\n",
       "    }\n",
       "\n",
       "    .dataframe tbody tr th {\n",
       "        vertical-align: top;\n",
       "    }\n",
       "\n",
       "    .dataframe thead th {\n",
       "        text-align: right;\n",
       "    }\n",
       "</style>\n",
       "<table border=\"1\" class=\"dataframe\">\n",
       "  <thead>\n",
       "    <tr style=\"text-align: right;\">\n",
       "      <th></th>\n",
       "      <th>Severity</th>\n",
       "      <th>Safety_Score</th>\n",
       "      <th>Days_Since_Inspection</th>\n",
       "      <th>Total_Safety_Complaints</th>\n",
       "      <th>Control_Metric</th>\n",
       "      <th>Turbulence_In_gforces</th>\n",
       "      <th>Cabin_Temperature</th>\n",
       "      <th>Accident_Type_Code</th>\n",
       "      <th>Max_Elevation</th>\n",
       "      <th>Violations</th>\n",
       "      <th>Adverse_Weather_Metric</th>\n",
       "      <th>Accident_ID</th>\n",
       "    </tr>\n",
       "  </thead>\n",
       "  <tbody>\n",
       "    <tr>\n",
       "      <td>0</td>\n",
       "      <td>Minor_Damage_And_Injuries</td>\n",
       "      <td>49.223744</td>\n",
       "      <td>14</td>\n",
       "      <td>22</td>\n",
       "      <td>71.285324</td>\n",
       "      <td>0.272118</td>\n",
       "      <td>78.04</td>\n",
       "      <td>2</td>\n",
       "      <td>31335.476824</td>\n",
       "      <td>3</td>\n",
       "      <td>0.424352</td>\n",
       "      <td>7570</td>\n",
       "    </tr>\n",
       "    <tr>\n",
       "      <td>1</td>\n",
       "      <td>Minor_Damage_And_Injuries</td>\n",
       "      <td>62.465753</td>\n",
       "      <td>10</td>\n",
       "      <td>27</td>\n",
       "      <td>72.288058</td>\n",
       "      <td>0.423939</td>\n",
       "      <td>84.54</td>\n",
       "      <td>2</td>\n",
       "      <td>26024.711057</td>\n",
       "      <td>2</td>\n",
       "      <td>0.352350</td>\n",
       "      <td>12128</td>\n",
       "    </tr>\n",
       "    <tr>\n",
       "      <td>2</td>\n",
       "      <td>Significant_Damage_And_Fatalities</td>\n",
       "      <td>63.059361</td>\n",
       "      <td>13</td>\n",
       "      <td>16</td>\n",
       "      <td>66.362808</td>\n",
       "      <td>0.322604</td>\n",
       "      <td>78.86</td>\n",
       "      <td>7</td>\n",
       "      <td>39269.053927</td>\n",
       "      <td>3</td>\n",
       "      <td>0.003364</td>\n",
       "      <td>2181</td>\n",
       "    </tr>\n",
       "    <tr>\n",
       "      <td>3</td>\n",
       "      <td>Significant_Damage_And_Serious_Injuries</td>\n",
       "      <td>48.082192</td>\n",
       "      <td>11</td>\n",
       "      <td>9</td>\n",
       "      <td>74.703737</td>\n",
       "      <td>0.337029</td>\n",
       "      <td>81.79</td>\n",
       "      <td>3</td>\n",
       "      <td>42771.499200</td>\n",
       "      <td>1</td>\n",
       "      <td>0.211728</td>\n",
       "      <td>5946</td>\n",
       "    </tr>\n",
       "    <tr>\n",
       "      <td>4</td>\n",
       "      <td>Significant_Damage_And_Fatalities</td>\n",
       "      <td>26.484018</td>\n",
       "      <td>13</td>\n",
       "      <td>25</td>\n",
       "      <td>47.948952</td>\n",
       "      <td>0.541140</td>\n",
       "      <td>77.16</td>\n",
       "      <td>3</td>\n",
       "      <td>35509.228515</td>\n",
       "      <td>2</td>\n",
       "      <td>0.176883</td>\n",
       "      <td>9054</td>\n",
       "    </tr>\n",
       "  </tbody>\n",
       "</table>\n",
       "</div>"
      ],
      "text/plain": [
       "                                  Severity  Safety_Score  \\\n",
       "0                Minor_Damage_And_Injuries     49.223744   \n",
       "1                Minor_Damage_And_Injuries     62.465753   \n",
       "2        Significant_Damage_And_Fatalities     63.059361   \n",
       "3  Significant_Damage_And_Serious_Injuries     48.082192   \n",
       "4        Significant_Damage_And_Fatalities     26.484018   \n",
       "\n",
       "   Days_Since_Inspection  Total_Safety_Complaints  Control_Metric  \\\n",
       "0                     14                       22       71.285324   \n",
       "1                     10                       27       72.288058   \n",
       "2                     13                       16       66.362808   \n",
       "3                     11                        9       74.703737   \n",
       "4                     13                       25       47.948952   \n",
       "\n",
       "   Turbulence_In_gforces  Cabin_Temperature  Accident_Type_Code  \\\n",
       "0               0.272118              78.04                   2   \n",
       "1               0.423939              84.54                   2   \n",
       "2               0.322604              78.86                   7   \n",
       "3               0.337029              81.79                   3   \n",
       "4               0.541140              77.16                   3   \n",
       "\n",
       "   Max_Elevation  Violations  Adverse_Weather_Metric  Accident_ID  \n",
       "0   31335.476824           3                0.424352         7570  \n",
       "1   26024.711057           2                0.352350        12128  \n",
       "2   39269.053927           3                0.003364         2181  \n",
       "3   42771.499200           1                0.211728         5946  \n",
       "4   35509.228515           2                0.176883         9054  "
      ]
     },
     "execution_count": 26,
     "metadata": {},
     "output_type": "execute_result"
    }
   ],
   "source": [
    "data_train.head()"
   ]
  },
  {
   "cell_type": "code",
   "execution_count": 27,
   "metadata": {},
   "outputs": [
    {
     "data": {
      "text/html": [
       "<div>\n",
       "<style scoped>\n",
       "    .dataframe tbody tr th:only-of-type {\n",
       "        vertical-align: middle;\n",
       "    }\n",
       "\n",
       "    .dataframe tbody tr th {\n",
       "        vertical-align: top;\n",
       "    }\n",
       "\n",
       "    .dataframe thead th {\n",
       "        text-align: right;\n",
       "    }\n",
       "</style>\n",
       "<table border=\"1\" class=\"dataframe\">\n",
       "  <thead>\n",
       "    <tr style=\"text-align: right;\">\n",
       "      <th></th>\n",
       "      <th>Safety_Score</th>\n",
       "      <th>Days_Since_Inspection</th>\n",
       "      <th>Total_Safety_Complaints</th>\n",
       "      <th>Control_Metric</th>\n",
       "      <th>Turbulence_In_gforces</th>\n",
       "      <th>Cabin_Temperature</th>\n",
       "      <th>Accident_Type_Code</th>\n",
       "      <th>Max_Elevation</th>\n",
       "      <th>Violations</th>\n",
       "      <th>Adverse_Weather_Metric</th>\n",
       "      <th>Accident_ID</th>\n",
       "    </tr>\n",
       "  </thead>\n",
       "  <tbody>\n",
       "    <tr>\n",
       "      <td>0</td>\n",
       "      <td>19.497717</td>\n",
       "      <td>16</td>\n",
       "      <td>6</td>\n",
       "      <td>72.151322</td>\n",
       "      <td>0.388959</td>\n",
       "      <td>78.32</td>\n",
       "      <td>4</td>\n",
       "      <td>37949.724386</td>\n",
       "      <td>2</td>\n",
       "      <td>0.069692</td>\n",
       "      <td>1</td>\n",
       "    </tr>\n",
       "    <tr>\n",
       "      <td>1</td>\n",
       "      <td>58.173516</td>\n",
       "      <td>15</td>\n",
       "      <td>3</td>\n",
       "      <td>64.585232</td>\n",
       "      <td>0.250841</td>\n",
       "      <td>78.60</td>\n",
       "      <td>7</td>\n",
       "      <td>30194.805567</td>\n",
       "      <td>2</td>\n",
       "      <td>0.002777</td>\n",
       "      <td>10</td>\n",
       "    </tr>\n",
       "    <tr>\n",
       "      <td>2</td>\n",
       "      <td>33.287671</td>\n",
       "      <td>15</td>\n",
       "      <td>3</td>\n",
       "      <td>64.721969</td>\n",
       "      <td>0.336669</td>\n",
       "      <td>86.96</td>\n",
       "      <td>6</td>\n",
       "      <td>17572.925484</td>\n",
       "      <td>1</td>\n",
       "      <td>0.004316</td>\n",
       "      <td>14</td>\n",
       "    </tr>\n",
       "    <tr>\n",
       "      <td>3</td>\n",
       "      <td>3.287671</td>\n",
       "      <td>21</td>\n",
       "      <td>5</td>\n",
       "      <td>66.362808</td>\n",
       "      <td>0.421775</td>\n",
       "      <td>80.86</td>\n",
       "      <td>3</td>\n",
       "      <td>40209.186341</td>\n",
       "      <td>2</td>\n",
       "      <td>0.199990</td>\n",
       "      <td>17</td>\n",
       "    </tr>\n",
       "    <tr>\n",
       "      <td>4</td>\n",
       "      <td>10.867580</td>\n",
       "      <td>18</td>\n",
       "      <td>2</td>\n",
       "      <td>56.107566</td>\n",
       "      <td>0.313228</td>\n",
       "      <td>79.22</td>\n",
       "      <td>2</td>\n",
       "      <td>35495.525408</td>\n",
       "      <td>2</td>\n",
       "      <td>0.483696</td>\n",
       "      <td>21</td>\n",
       "    </tr>\n",
       "  </tbody>\n",
       "</table>\n",
       "</div>"
      ],
      "text/plain": [
       "   Safety_Score  Days_Since_Inspection  Total_Safety_Complaints  \\\n",
       "0     19.497717                     16                        6   \n",
       "1     58.173516                     15                        3   \n",
       "2     33.287671                     15                        3   \n",
       "3      3.287671                     21                        5   \n",
       "4     10.867580                     18                        2   \n",
       "\n",
       "   Control_Metric  Turbulence_In_gforces  Cabin_Temperature  \\\n",
       "0       72.151322               0.388959              78.32   \n",
       "1       64.585232               0.250841              78.60   \n",
       "2       64.721969               0.336669              86.96   \n",
       "3       66.362808               0.421775              80.86   \n",
       "4       56.107566               0.313228              79.22   \n",
       "\n",
       "   Accident_Type_Code  Max_Elevation  Violations  Adverse_Weather_Metric  \\\n",
       "0                   4   37949.724386           2                0.069692   \n",
       "1                   7   30194.805567           2                0.002777   \n",
       "2                   6   17572.925484           1                0.004316   \n",
       "3                   3   40209.186341           2                0.199990   \n",
       "4                   2   35495.525408           2                0.483696   \n",
       "\n",
       "   Accident_ID  \n",
       "0            1  \n",
       "1           10  \n",
       "2           14  \n",
       "3           17  \n",
       "4           21  "
      ]
     },
     "execution_count": 27,
     "metadata": {},
     "output_type": "execute_result"
    }
   ],
   "source": [
    "data_test.head()"
   ]
  },
  {
   "cell_type": "code",
   "execution_count": 28,
   "metadata": {},
   "outputs": [
    {
     "data": {
      "text/plain": [
       "(10000, 12)"
      ]
     },
     "execution_count": 28,
     "metadata": {},
     "output_type": "execute_result"
    }
   ],
   "source": [
    "data_train.shape"
   ]
  },
  {
   "cell_type": "code",
   "execution_count": 29,
   "metadata": {},
   "outputs": [
    {
     "data": {
      "text/plain": [
       "(2500, 11)"
      ]
     },
     "execution_count": 29,
     "metadata": {},
     "output_type": "execute_result"
    }
   ],
   "source": [
    "data_test.shape"
   ]
  },
  {
   "cell_type": "code",
   "execution_count": 30,
   "metadata": {},
   "outputs": [],
   "source": [
    "data_train1= data_train.copy()"
   ]
  },
  {
   "cell_type": "code",
   "execution_count": 31,
   "metadata": {},
   "outputs": [],
   "source": [
    "data_test1= data_test.copy()"
   ]
  },
  {
   "cell_type": "code",
   "execution_count": 32,
   "metadata": {},
   "outputs": [],
   "source": [
    "data_train= data_train.drop([\"Accident_ID\"],axis=1)"
   ]
  },
  {
   "cell_type": "code",
   "execution_count": 33,
   "metadata": {},
   "outputs": [],
   "source": [
    "data_test= data_test.drop([\"Accident_ID\"],axis=1)"
   ]
  },
  {
   "cell_type": "code",
   "execution_count": 34,
   "metadata": {},
   "outputs": [
    {
     "data": {
      "text/html": [
       "<div>\n",
       "<style scoped>\n",
       "    .dataframe tbody tr th:only-of-type {\n",
       "        vertical-align: middle;\n",
       "    }\n",
       "\n",
       "    .dataframe tbody tr th {\n",
       "        vertical-align: top;\n",
       "    }\n",
       "\n",
       "    .dataframe thead th {\n",
       "        text-align: right;\n",
       "    }\n",
       "</style>\n",
       "<table border=\"1\" class=\"dataframe\">\n",
       "  <thead>\n",
       "    <tr style=\"text-align: right;\">\n",
       "      <th></th>\n",
       "      <th>data_type</th>\n",
       "      <th>no.of levels</th>\n",
       "      <th>Levels</th>\n",
       "      <th>nan</th>\n",
       "    </tr>\n",
       "  </thead>\n",
       "  <tbody>\n",
       "    <tr>\n",
       "      <td>Severity</td>\n",
       "      <td>object</td>\n",
       "      <td>4</td>\n",
       "      <td>['Minor_Damage_And_Injuries' 'Significant_Dama...</td>\n",
       "      <td>0.0</td>\n",
       "    </tr>\n",
       "    <tr>\n",
       "      <td>Safety_Score</td>\n",
       "      <td>float64</td>\n",
       "      <td>1175</td>\n",
       "      <td>[49.2237442922374 62.4657534246575 63.05936073...</td>\n",
       "      <td>0.0</td>\n",
       "    </tr>\n",
       "    <tr>\n",
       "      <td>Days_Since_Inspection</td>\n",
       "      <td>int64</td>\n",
       "      <td>23</td>\n",
       "      <td>[14 10 13 11 15 18 5 6 12 7 8 17 9 16 20 19 21...</td>\n",
       "      <td>0.0</td>\n",
       "    </tr>\n",
       "    <tr>\n",
       "      <td>Total_Safety_Complaints</td>\n",
       "      <td>int64</td>\n",
       "      <td>44</td>\n",
       "      <td>[22 27 16 9 25 0 10 4 40 11 2 14 1 3 5 7 20 28...</td>\n",
       "      <td>0.0</td>\n",
       "    </tr>\n",
       "    <tr>\n",
       "      <td>Control_Metric</td>\n",
       "      <td>float64</td>\n",
       "      <td>952</td>\n",
       "      <td>[71.285323609845 72.2880583409298 66.362807657...</td>\n",
       "      <td>0.0</td>\n",
       "    </tr>\n",
       "    <tr>\n",
       "      <td>Turbulence_In_gforces</td>\n",
       "      <td>float64</td>\n",
       "      <td>1117</td>\n",
       "      <td>[0.272117562206996 0.42393869455463395 0.32260...</td>\n",
       "      <td>0.0</td>\n",
       "    </tr>\n",
       "    <tr>\n",
       "      <td>Cabin_Temperature</td>\n",
       "      <td>float64</td>\n",
       "      <td>950</td>\n",
       "      <td>[78.04 84.54 78.86 81.79 77.16 78.63 88.04 83....</td>\n",
       "      <td>0.0</td>\n",
       "    </tr>\n",
       "    <tr>\n",
       "      <td>Accident_Type_Code</td>\n",
       "      <td>int64</td>\n",
       "      <td>7</td>\n",
       "      <td>[2 7 3 4 1 6 5]</td>\n",
       "      <td>0.0</td>\n",
       "    </tr>\n",
       "    <tr>\n",
       "      <td>Max_Elevation</td>\n",
       "      <td>float64</td>\n",
       "      <td>4191</td>\n",
       "      <td>[31335.4768243775 26024.711057085402 39269.053...</td>\n",
       "      <td>0.0</td>\n",
       "    </tr>\n",
       "    <tr>\n",
       "      <td>Violations</td>\n",
       "      <td>int64</td>\n",
       "      <td>6</td>\n",
       "      <td>[3 2 1 0 4 5]</td>\n",
       "      <td>0.0</td>\n",
       "    </tr>\n",
       "    <tr>\n",
       "      <td>Adverse_Weather_Metric</td>\n",
       "      <td>float64</td>\n",
       "      <td>4258</td>\n",
       "      <td>[0.42435208330785296 0.352349972573073 0.00336...</td>\n",
       "      <td>0.0</td>\n",
       "    </tr>\n",
       "  </tbody>\n",
       "</table>\n",
       "</div>"
      ],
      "text/plain": [
       "                        data_type  no.of levels  \\\n",
       "Severity                   object             4   \n",
       "Safety_Score              float64          1175   \n",
       "Days_Since_Inspection       int64            23   \n",
       "Total_Safety_Complaints     int64            44   \n",
       "Control_Metric            float64           952   \n",
       "Turbulence_In_gforces     float64          1117   \n",
       "Cabin_Temperature         float64           950   \n",
       "Accident_Type_Code          int64             7   \n",
       "Max_Elevation             float64          4191   \n",
       "Violations                  int64             6   \n",
       "Adverse_Weather_Metric    float64          4258   \n",
       "\n",
       "                                                                    Levels  \\\n",
       "Severity                 ['Minor_Damage_And_Injuries' 'Significant_Dama...   \n",
       "Safety_Score             [49.2237442922374 62.4657534246575 63.05936073...   \n",
       "Days_Since_Inspection    [14 10 13 11 15 18 5 6 12 7 8 17 9 16 20 19 21...   \n",
       "Total_Safety_Complaints  [22 27 16 9 25 0 10 4 40 11 2 14 1 3 5 7 20 28...   \n",
       "Control_Metric           [71.285323609845 72.2880583409298 66.362807657...   \n",
       "Turbulence_In_gforces    [0.272117562206996 0.42393869455463395 0.32260...   \n",
       "Cabin_Temperature        [78.04 84.54 78.86 81.79 77.16 78.63 88.04 83....   \n",
       "Accident_Type_Code                                         [2 7 3 4 1 6 5]   \n",
       "Max_Elevation            [31335.4768243775 26024.711057085402 39269.053...   \n",
       "Violations                                                   [3 2 1 0 4 5]   \n",
       "Adverse_Weather_Metric   [0.42435208330785296 0.352349972573073 0.00336...   \n",
       "\n",
       "                         nan  \n",
       "Severity                 0.0  \n",
       "Safety_Score             0.0  \n",
       "Days_Since_Inspection    0.0  \n",
       "Total_Safety_Complaints  0.0  \n",
       "Control_Metric           0.0  \n",
       "Turbulence_In_gforces    0.0  \n",
       "Cabin_Temperature        0.0  \n",
       "Accident_Type_Code       0.0  \n",
       "Max_Elevation            0.0  \n",
       "Violations               0.0  \n",
       "Adverse_Weather_Metric   0.0  "
      ]
     },
     "execution_count": 34,
     "metadata": {},
     "output_type": "execute_result"
    }
   ],
   "source": [
    "def inspect_data(data):\n",
    "    return pd.DataFrame({\"data_type\":data.dtypes,\"no.of levels\":data.apply(lambda x: x.nunique(),axis=0),\"Levels\":data.apply(lambda x:str(x.unique()),axis=0),\"nan\":round((data.isnull().sum())/100,1)})\n",
    "inspect_data(data_train)"
   ]
  },
  {
   "cell_type": "code",
   "execution_count": 35,
   "metadata": {},
   "outputs": [
    {
     "data": {
      "text/html": [
       "<div>\n",
       "<style scoped>\n",
       "    .dataframe tbody tr th:only-of-type {\n",
       "        vertical-align: middle;\n",
       "    }\n",
       "\n",
       "    .dataframe tbody tr th {\n",
       "        vertical-align: top;\n",
       "    }\n",
       "\n",
       "    .dataframe thead th {\n",
       "        text-align: right;\n",
       "    }\n",
       "</style>\n",
       "<table border=\"1\" class=\"dataframe\">\n",
       "  <thead>\n",
       "    <tr style=\"text-align: right;\">\n",
       "      <th></th>\n",
       "      <th>data_type</th>\n",
       "      <th>no.of levels</th>\n",
       "      <th>Levels</th>\n",
       "      <th>nan</th>\n",
       "    </tr>\n",
       "  </thead>\n",
       "  <tbody>\n",
       "    <tr>\n",
       "      <td>Safety_Score</td>\n",
       "      <td>float64</td>\n",
       "      <td>910</td>\n",
       "      <td>[ 19.49771689  58.17351598  33.28767123   3.28...</td>\n",
       "      <td>0.0</td>\n",
       "    </tr>\n",
       "    <tr>\n",
       "      <td>Days_Since_Inspection</td>\n",
       "      <td>int64</td>\n",
       "      <td>23</td>\n",
       "      <td>[16. 15. 21. 18.  8. 13. 17. 20. 11. 10.  7. 1...</td>\n",
       "      <td>0.0</td>\n",
       "    </tr>\n",
       "    <tr>\n",
       "      <td>Total_Safety_Complaints</td>\n",
       "      <td>int64</td>\n",
       "      <td>42</td>\n",
       "      <td>[ 6.  3.  5.  2. 14. 13.  0.  4.  7.  9. 22.  ...</td>\n",
       "      <td>0.0</td>\n",
       "    </tr>\n",
       "    <tr>\n",
       "      <td>Control_Metric</td>\n",
       "      <td>float64</td>\n",
       "      <td>772</td>\n",
       "      <td>[72.15132179 64.58523245 64.72196901 66.362807...</td>\n",
       "      <td>0.0</td>\n",
       "    </tr>\n",
       "    <tr>\n",
       "      <td>Turbulence_In_gforces</td>\n",
       "      <td>float64</td>\n",
       "      <td>873</td>\n",
       "      <td>[0.38895853 0.25084097 0.33666859 0.42177497 0...</td>\n",
       "      <td>0.0</td>\n",
       "    </tr>\n",
       "    <tr>\n",
       "      <td>Cabin_Temperature</td>\n",
       "      <td>float64</td>\n",
       "      <td>764</td>\n",
       "      <td>[78.32 78.6  86.96 80.86 79.22 77.08 88.48 80....</td>\n",
       "      <td>0.0</td>\n",
       "    </tr>\n",
       "    <tr>\n",
       "      <td>Accident_Type_Code</td>\n",
       "      <td>int64</td>\n",
       "      <td>7</td>\n",
       "      <td>[4. 7. 6. 3. 2. 5. 1.]</td>\n",
       "      <td>0.0</td>\n",
       "    </tr>\n",
       "    <tr>\n",
       "      <td>Max_Elevation</td>\n",
       "      <td>float64</td>\n",
       "      <td>1922</td>\n",
       "      <td>[37949.72438618 30194.80556735 17572.92548391 ...</td>\n",
       "      <td>0.0</td>\n",
       "    </tr>\n",
       "    <tr>\n",
       "      <td>Violations</td>\n",
       "      <td>int64</td>\n",
       "      <td>6</td>\n",
       "      <td>[2. 1. 3. 4. 0. 5.]</td>\n",
       "      <td>0.0</td>\n",
       "    </tr>\n",
       "    <tr>\n",
       "      <td>Adverse_Weather_Metric</td>\n",
       "      <td>float64</td>\n",
       "      <td>1958</td>\n",
       "      <td>[0.06969245 0.0027774  0.00431639 ... 0.008628...</td>\n",
       "      <td>0.0</td>\n",
       "    </tr>\n",
       "  </tbody>\n",
       "</table>\n",
       "</div>"
      ],
      "text/plain": [
       "                        data_type  no.of levels  \\\n",
       "Safety_Score              float64           910   \n",
       "Days_Since_Inspection       int64            23   \n",
       "Total_Safety_Complaints     int64            42   \n",
       "Control_Metric            float64           772   \n",
       "Turbulence_In_gforces     float64           873   \n",
       "Cabin_Temperature         float64           764   \n",
       "Accident_Type_Code          int64             7   \n",
       "Max_Elevation             float64          1922   \n",
       "Violations                  int64             6   \n",
       "Adverse_Weather_Metric    float64          1958   \n",
       "\n",
       "                                                                    Levels  \\\n",
       "Safety_Score             [ 19.49771689  58.17351598  33.28767123   3.28...   \n",
       "Days_Since_Inspection    [16. 15. 21. 18.  8. 13. 17. 20. 11. 10.  7. 1...   \n",
       "Total_Safety_Complaints  [ 6.  3.  5.  2. 14. 13.  0.  4.  7.  9. 22.  ...   \n",
       "Control_Metric           [72.15132179 64.58523245 64.72196901 66.362807...   \n",
       "Turbulence_In_gforces    [0.38895853 0.25084097 0.33666859 0.42177497 0...   \n",
       "Cabin_Temperature        [78.32 78.6  86.96 80.86 79.22 77.08 88.48 80....   \n",
       "Accident_Type_Code                                  [4. 7. 6. 3. 2. 5. 1.]   \n",
       "Max_Elevation            [37949.72438618 30194.80556735 17572.92548391 ...   \n",
       "Violations                                             [2. 1. 3. 4. 0. 5.]   \n",
       "Adverse_Weather_Metric   [0.06969245 0.0027774  0.00431639 ... 0.008628...   \n",
       "\n",
       "                         nan  \n",
       "Safety_Score             0.0  \n",
       "Days_Since_Inspection    0.0  \n",
       "Total_Safety_Complaints  0.0  \n",
       "Control_Metric           0.0  \n",
       "Turbulence_In_gforces    0.0  \n",
       "Cabin_Temperature        0.0  \n",
       "Accident_Type_Code       0.0  \n",
       "Max_Elevation            0.0  \n",
       "Violations               0.0  \n",
       "Adverse_Weather_Metric   0.0  "
      ]
     },
     "execution_count": 35,
     "metadata": {},
     "output_type": "execute_result"
    }
   ],
   "source": [
    "inspect_data(data_test)"
   ]
  },
  {
   "cell_type": "code",
   "execution_count": 36,
   "metadata": {},
   "outputs": [
    {
     "data": {
      "text/plain": [
       "Highly_Fatal_And_Damaging                  3049\n",
       "Significant_Damage_And_Serious_Injuries    2729\n",
       "Minor_Damage_And_Injuries                  2527\n",
       "Significant_Damage_And_Fatalities          1695\n",
       "Name: Severity, dtype: int64"
      ]
     },
     "execution_count": 36,
     "metadata": {},
     "output_type": "execute_result"
    }
   ],
   "source": [
    "data_train.Severity.value_counts()"
   ]
  },
  {
   "cell_type": "code",
   "execution_count": 37,
   "metadata": {},
   "outputs": [],
   "source": [
    "from sklearn.preprocessing import LabelEncoder\n",
    "label_encoder= LabelEncoder()\n",
    "data_train['Severity']= label_encoder.fit_transform(data_train['Severity'])"
   ]
  },
  {
   "cell_type": "code",
   "execution_count": 38,
   "metadata": {},
   "outputs": [
    {
     "data": {
      "text/html": [
       "<div>\n",
       "<style scoped>\n",
       "    .dataframe tbody tr th:only-of-type {\n",
       "        vertical-align: middle;\n",
       "    }\n",
       "\n",
       "    .dataframe tbody tr th {\n",
       "        vertical-align: top;\n",
       "    }\n",
       "\n",
       "    .dataframe thead th {\n",
       "        text-align: right;\n",
       "    }\n",
       "</style>\n",
       "<table border=\"1\" class=\"dataframe\">\n",
       "  <thead>\n",
       "    <tr style=\"text-align: right;\">\n",
       "      <th></th>\n",
       "      <th>Severity</th>\n",
       "      <th>Safety_Score</th>\n",
       "      <th>Days_Since_Inspection</th>\n",
       "      <th>Total_Safety_Complaints</th>\n",
       "      <th>Control_Metric</th>\n",
       "      <th>Turbulence_In_gforces</th>\n",
       "      <th>Cabin_Temperature</th>\n",
       "      <th>Accident_Type_Code</th>\n",
       "      <th>Max_Elevation</th>\n",
       "      <th>Violations</th>\n",
       "      <th>Adverse_Weather_Metric</th>\n",
       "    </tr>\n",
       "  </thead>\n",
       "  <tbody>\n",
       "    <tr>\n",
       "      <td>count</td>\n",
       "      <td>10000.000000</td>\n",
       "      <td>10000.000000</td>\n",
       "      <td>10000.000000</td>\n",
       "      <td>10000.000000</td>\n",
       "      <td>10000.000000</td>\n",
       "      <td>10000.000000</td>\n",
       "      <td>10000.000000</td>\n",
       "      <td>10000.000000</td>\n",
       "      <td>10000.000000</td>\n",
       "      <td>10000.00000</td>\n",
       "      <td>10000.000000</td>\n",
       "    </tr>\n",
       "    <tr>\n",
       "      <td>mean</td>\n",
       "      <td>1.410400</td>\n",
       "      <td>41.876406</td>\n",
       "      <td>12.931100</td>\n",
       "      <td>6.564300</td>\n",
       "      <td>65.145324</td>\n",
       "      <td>0.381495</td>\n",
       "      <td>79.969331</td>\n",
       "      <td>3.814900</td>\n",
       "      <td>32001.803282</td>\n",
       "      <td>2.01220</td>\n",
       "      <td>0.255635</td>\n",
       "    </tr>\n",
       "    <tr>\n",
       "      <td>std</td>\n",
       "      <td>1.182249</td>\n",
       "      <td>16.138072</td>\n",
       "      <td>3.539803</td>\n",
       "      <td>6.971982</td>\n",
       "      <td>11.882934</td>\n",
       "      <td>0.121301</td>\n",
       "      <td>2.759739</td>\n",
       "      <td>1.902577</td>\n",
       "      <td>9431.995196</td>\n",
       "      <td>1.03998</td>\n",
       "      <td>0.381128</td>\n",
       "    </tr>\n",
       "    <tr>\n",
       "      <td>min</td>\n",
       "      <td>0.000000</td>\n",
       "      <td>0.000000</td>\n",
       "      <td>1.000000</td>\n",
       "      <td>0.000000</td>\n",
       "      <td>0.000000</td>\n",
       "      <td>0.134000</td>\n",
       "      <td>74.740000</td>\n",
       "      <td>1.000000</td>\n",
       "      <td>831.695553</td>\n",
       "      <td>0.00000</td>\n",
       "      <td>0.000316</td>\n",
       "    </tr>\n",
       "    <tr>\n",
       "      <td>25%</td>\n",
       "      <td>0.000000</td>\n",
       "      <td>30.593607</td>\n",
       "      <td>11.000000</td>\n",
       "      <td>2.000000</td>\n",
       "      <td>56.927985</td>\n",
       "      <td>0.293665</td>\n",
       "      <td>77.960000</td>\n",
       "      <td>2.000000</td>\n",
       "      <td>25757.636908</td>\n",
       "      <td>1.00000</td>\n",
       "      <td>0.012063</td>\n",
       "    </tr>\n",
       "    <tr>\n",
       "      <td>50%</td>\n",
       "      <td>1.000000</td>\n",
       "      <td>41.278539</td>\n",
       "      <td>13.000000</td>\n",
       "      <td>4.000000</td>\n",
       "      <td>65.587967</td>\n",
       "      <td>0.365879</td>\n",
       "      <td>79.540000</td>\n",
       "      <td>4.000000</td>\n",
       "      <td>32060.336419</td>\n",
       "      <td>2.00000</td>\n",
       "      <td>0.074467</td>\n",
       "    </tr>\n",
       "    <tr>\n",
       "      <td>75%</td>\n",
       "      <td>3.000000</td>\n",
       "      <td>52.511416</td>\n",
       "      <td>15.000000</td>\n",
       "      <td>9.000000</td>\n",
       "      <td>73.336372</td>\n",
       "      <td>0.451346</td>\n",
       "      <td>81.560000</td>\n",
       "      <td>5.000000</td>\n",
       "      <td>38380.641513</td>\n",
       "      <td>3.00000</td>\n",
       "      <td>0.354059</td>\n",
       "    </tr>\n",
       "    <tr>\n",
       "      <td>max</td>\n",
       "      <td>3.000000</td>\n",
       "      <td>100.000000</td>\n",
       "      <td>23.000000</td>\n",
       "      <td>54.000000</td>\n",
       "      <td>100.000000</td>\n",
       "      <td>0.882648</td>\n",
       "      <td>97.510000</td>\n",
       "      <td>7.000000</td>\n",
       "      <td>64297.651218</td>\n",
       "      <td>5.00000</td>\n",
       "      <td>2.365378</td>\n",
       "    </tr>\n",
       "  </tbody>\n",
       "</table>\n",
       "</div>"
      ],
      "text/plain": [
       "           Severity  Safety_Score  Days_Since_Inspection  \\\n",
       "count  10000.000000  10000.000000           10000.000000   \n",
       "mean       1.410400     41.876406              12.931100   \n",
       "std        1.182249     16.138072               3.539803   \n",
       "min        0.000000      0.000000               1.000000   \n",
       "25%        0.000000     30.593607              11.000000   \n",
       "50%        1.000000     41.278539              13.000000   \n",
       "75%        3.000000     52.511416              15.000000   \n",
       "max        3.000000    100.000000              23.000000   \n",
       "\n",
       "       Total_Safety_Complaints  Control_Metric  Turbulence_In_gforces  \\\n",
       "count             10000.000000    10000.000000           10000.000000   \n",
       "mean                  6.564300       65.145324               0.381495   \n",
       "std                   6.971982       11.882934               0.121301   \n",
       "min                   0.000000        0.000000               0.134000   \n",
       "25%                   2.000000       56.927985               0.293665   \n",
       "50%                   4.000000       65.587967               0.365879   \n",
       "75%                   9.000000       73.336372               0.451346   \n",
       "max                  54.000000      100.000000               0.882648   \n",
       "\n",
       "       Cabin_Temperature  Accident_Type_Code  Max_Elevation   Violations  \\\n",
       "count       10000.000000        10000.000000   10000.000000  10000.00000   \n",
       "mean           79.969331            3.814900   32001.803282      2.01220   \n",
       "std             2.759739            1.902577    9431.995196      1.03998   \n",
       "min            74.740000            1.000000     831.695553      0.00000   \n",
       "25%            77.960000            2.000000   25757.636908      1.00000   \n",
       "50%            79.540000            4.000000   32060.336419      2.00000   \n",
       "75%            81.560000            5.000000   38380.641513      3.00000   \n",
       "max            97.510000            7.000000   64297.651218      5.00000   \n",
       "\n",
       "       Adverse_Weather_Metric  \n",
       "count            10000.000000  \n",
       "mean                 0.255635  \n",
       "std                  0.381128  \n",
       "min                  0.000316  \n",
       "25%                  0.012063  \n",
       "50%                  0.074467  \n",
       "75%                  0.354059  \n",
       "max                  2.365378  "
      ]
     },
     "execution_count": 38,
     "metadata": {},
     "output_type": "execute_result"
    }
   ],
   "source": [
    "data_train.describe()"
   ]
  },
  {
   "cell_type": "code",
   "execution_count": 39,
   "metadata": {},
   "outputs": [
    {
     "data": {
      "text/plain": [
       "54"
      ]
     },
     "execution_count": 39,
     "metadata": {},
     "output_type": "execute_result"
    }
   ],
   "source": [
    "data_train.Total_Safety_Complaints.max()"
   ]
  },
  {
   "cell_type": "code",
   "execution_count": 40,
   "metadata": {},
   "outputs": [
    {
     "data": {
      "text/plain": [
       "0"
      ]
     },
     "execution_count": 40,
     "metadata": {},
     "output_type": "execute_result"
    }
   ],
   "source": [
    "data_train.Total_Safety_Complaints.min()"
   ]
  },
  {
   "cell_type": "code",
   "execution_count": 41,
   "metadata": {},
   "outputs": [
    {
     "data": {
      "text/plain": [
       "Index(['Adverse_Weather_Metric', 'Cabin_Temperature', 'Control_Metric',\n",
       "       'Days_Since_Inspection', 'Max_Elevation', 'Safety_Score',\n",
       "       'Total_Safety_Complaints', 'Turbulence_In_gforces'],\n",
       "      dtype='object')"
      ]
     },
     "execution_count": 41,
     "metadata": {},
     "output_type": "execute_result"
    }
   ],
   "source": [
    "cat_cols= ['Severity','Accident_Type_Code','Violations']\n",
    "num_cols= data_train.columns.difference(cat_cols)\n",
    "num_cols"
   ]
  },
  {
   "cell_type": "code",
   "execution_count": 42,
   "metadata": {},
   "outputs": [],
   "source": [
    "cat_cols_test= ['Accident_Type_Code','Violations']\n",
    "num_cols_test= data_test.columns.difference(cat_cols_test)\n"
   ]
  },
  {
   "cell_type": "code",
   "execution_count": 43,
   "metadata": {},
   "outputs": [
    {
     "data": {
      "text/plain": [
       "Severity                   category\n",
       "Safety_Score                float64\n",
       "Days_Since_Inspection       float64\n",
       "Total_Safety_Complaints     float64\n",
       "Control_Metric              float64\n",
       "Turbulence_In_gforces       float64\n",
       "Cabin_Temperature           float64\n",
       "Accident_Type_Code         category\n",
       "Max_Elevation               float64\n",
       "Violations                 category\n",
       "Adverse_Weather_Metric      float64\n",
       "dtype: object"
      ]
     },
     "execution_count": 43,
     "metadata": {},
     "output_type": "execute_result"
    }
   ],
   "source": [
    "data_train[cat_cols]= data_train[cat_cols].astype('category')\n",
    "data_train[num_cols]= data_train[num_cols].astype('float')\n",
    "data_train.dtypes"
   ]
  },
  {
   "cell_type": "code",
   "execution_count": 44,
   "metadata": {},
   "outputs": [
    {
     "data": {
      "text/plain": [
       "Safety_Score                float64\n",
       "Days_Since_Inspection       float64\n",
       "Total_Safety_Complaints     float64\n",
       "Control_Metric              float64\n",
       "Turbulence_In_gforces       float64\n",
       "Cabin_Temperature           float64\n",
       "Accident_Type_Code         category\n",
       "Max_Elevation               float64\n",
       "Violations                 category\n",
       "Adverse_Weather_Metric      float64\n",
       "dtype: object"
      ]
     },
     "execution_count": 44,
     "metadata": {},
     "output_type": "execute_result"
    }
   ],
   "source": [
    "data_test[cat_cols_test]= data_test[cat_cols_test].astype('category')\n",
    "data_test[num_cols_test]= data_test[num_cols_test].astype('float')\n",
    "data_test.dtypes"
   ]
  },
  {
   "cell_type": "code",
   "execution_count": 45,
   "metadata": {},
   "outputs": [
    {
     "data": {
      "text/html": [
       "<div>\n",
       "<style scoped>\n",
       "    .dataframe tbody tr th:only-of-type {\n",
       "        vertical-align: middle;\n",
       "    }\n",
       "\n",
       "    .dataframe tbody tr th {\n",
       "        vertical-align: top;\n",
       "    }\n",
       "\n",
       "    .dataframe thead th {\n",
       "        text-align: right;\n",
       "    }\n",
       "</style>\n",
       "<table border=\"1\" class=\"dataframe\">\n",
       "  <thead>\n",
       "    <tr style=\"text-align: right;\">\n",
       "      <th></th>\n",
       "      <th>Severity</th>\n",
       "      <th>Safety_Score</th>\n",
       "      <th>Days_Since_Inspection</th>\n",
       "      <th>Total_Safety_Complaints</th>\n",
       "      <th>Control_Metric</th>\n",
       "      <th>Turbulence_In_gforces</th>\n",
       "      <th>Cabin_Temperature</th>\n",
       "      <th>Accident_Type_Code</th>\n",
       "      <th>Max_Elevation</th>\n",
       "      <th>Violations</th>\n",
       "      <th>Adverse_Weather_Metric</th>\n",
       "    </tr>\n",
       "  </thead>\n",
       "  <tbody>\n",
       "    <tr>\n",
       "      <td>0</td>\n",
       "      <td>1</td>\n",
       "      <td>49.223744</td>\n",
       "      <td>14.0</td>\n",
       "      <td>22.0</td>\n",
       "      <td>71.285324</td>\n",
       "      <td>0.272118</td>\n",
       "      <td>78.04</td>\n",
       "      <td>2</td>\n",
       "      <td>31335.476824</td>\n",
       "      <td>3</td>\n",
       "      <td>0.424352</td>\n",
       "    </tr>\n",
       "    <tr>\n",
       "      <td>1</td>\n",
       "      <td>1</td>\n",
       "      <td>62.465753</td>\n",
       "      <td>10.0</td>\n",
       "      <td>27.0</td>\n",
       "      <td>72.288058</td>\n",
       "      <td>0.423939</td>\n",
       "      <td>84.54</td>\n",
       "      <td>2</td>\n",
       "      <td>26024.711057</td>\n",
       "      <td>2</td>\n",
       "      <td>0.352350</td>\n",
       "    </tr>\n",
       "    <tr>\n",
       "      <td>2</td>\n",
       "      <td>2</td>\n",
       "      <td>63.059361</td>\n",
       "      <td>13.0</td>\n",
       "      <td>16.0</td>\n",
       "      <td>66.362808</td>\n",
       "      <td>0.322604</td>\n",
       "      <td>78.86</td>\n",
       "      <td>7</td>\n",
       "      <td>39269.053927</td>\n",
       "      <td>3</td>\n",
       "      <td>0.003364</td>\n",
       "    </tr>\n",
       "    <tr>\n",
       "      <td>3</td>\n",
       "      <td>3</td>\n",
       "      <td>48.082192</td>\n",
       "      <td>11.0</td>\n",
       "      <td>9.0</td>\n",
       "      <td>74.703737</td>\n",
       "      <td>0.337029</td>\n",
       "      <td>81.79</td>\n",
       "      <td>3</td>\n",
       "      <td>42771.499200</td>\n",
       "      <td>1</td>\n",
       "      <td>0.211728</td>\n",
       "    </tr>\n",
       "    <tr>\n",
       "      <td>4</td>\n",
       "      <td>2</td>\n",
       "      <td>26.484018</td>\n",
       "      <td>13.0</td>\n",
       "      <td>25.0</td>\n",
       "      <td>47.948952</td>\n",
       "      <td>0.541140</td>\n",
       "      <td>77.16</td>\n",
       "      <td>3</td>\n",
       "      <td>35509.228515</td>\n",
       "      <td>2</td>\n",
       "      <td>0.176883</td>\n",
       "    </tr>\n",
       "    <tr>\n",
       "      <td>...</td>\n",
       "      <td>...</td>\n",
       "      <td>...</td>\n",
       "      <td>...</td>\n",
       "      <td>...</td>\n",
       "      <td>...</td>\n",
       "      <td>...</td>\n",
       "      <td>...</td>\n",
       "      <td>...</td>\n",
       "      <td>...</td>\n",
       "      <td>...</td>\n",
       "      <td>...</td>\n",
       "    </tr>\n",
       "    <tr>\n",
       "      <td>9995</td>\n",
       "      <td>3</td>\n",
       "      <td>56.118721</td>\n",
       "      <td>8.0</td>\n",
       "      <td>1.0</td>\n",
       "      <td>63.445761</td>\n",
       "      <td>0.482359</td>\n",
       "      <td>78.64</td>\n",
       "      <td>5</td>\n",
       "      <td>38537.363408</td>\n",
       "      <td>2</td>\n",
       "      <td>0.026150</td>\n",
       "    </tr>\n",
       "    <tr>\n",
       "      <td>9996</td>\n",
       "      <td>0</td>\n",
       "      <td>40.365297</td>\n",
       "      <td>10.0</td>\n",
       "      <td>7.0</td>\n",
       "      <td>62.169553</td>\n",
       "      <td>0.421775</td>\n",
       "      <td>79.77</td>\n",
       "      <td>4</td>\n",
       "      <td>40846.916900</td>\n",
       "      <td>2</td>\n",
       "      <td>0.074898</td>\n",
       "    </tr>\n",
       "    <tr>\n",
       "      <td>9997</td>\n",
       "      <td>3</td>\n",
       "      <td>27.853881</td>\n",
       "      <td>17.0</td>\n",
       "      <td>1.0</td>\n",
       "      <td>69.598906</td>\n",
       "      <td>0.318277</td>\n",
       "      <td>80.37</td>\n",
       "      <td>3</td>\n",
       "      <td>33771.996300</td>\n",
       "      <td>3</td>\n",
       "      <td>0.168173</td>\n",
       "    </tr>\n",
       "    <tr>\n",
       "      <td>9998</td>\n",
       "      <td>1</td>\n",
       "      <td>56.210046</td>\n",
       "      <td>8.0</td>\n",
       "      <td>0.0</td>\n",
       "      <td>39.835916</td>\n",
       "      <td>0.598118</td>\n",
       "      <td>76.92</td>\n",
       "      <td>5</td>\n",
       "      <td>39820.419251</td>\n",
       "      <td>2</td>\n",
       "      <td>0.026381</td>\n",
       "    </tr>\n",
       "    <tr>\n",
       "      <td>9999</td>\n",
       "      <td>0</td>\n",
       "      <td>50.000000</td>\n",
       "      <td>13.0</td>\n",
       "      <td>3.0</td>\n",
       "      <td>45.487694</td>\n",
       "      <td>0.382467</td>\n",
       "      <td>77.46</td>\n",
       "      <td>5</td>\n",
       "      <td>26005.322987</td>\n",
       "      <td>2</td>\n",
       "      <td>0.017036</td>\n",
       "    </tr>\n",
       "  </tbody>\n",
       "</table>\n",
       "<p>10000 rows × 11 columns</p>\n",
       "</div>"
      ],
      "text/plain": [
       "     Severity  Safety_Score  Days_Since_Inspection  Total_Safety_Complaints  \\\n",
       "0           1     49.223744                   14.0                     22.0   \n",
       "1           1     62.465753                   10.0                     27.0   \n",
       "2           2     63.059361                   13.0                     16.0   \n",
       "3           3     48.082192                   11.0                      9.0   \n",
       "4           2     26.484018                   13.0                     25.0   \n",
       "...       ...           ...                    ...                      ...   \n",
       "9995        3     56.118721                    8.0                      1.0   \n",
       "9996        0     40.365297                   10.0                      7.0   \n",
       "9997        3     27.853881                   17.0                      1.0   \n",
       "9998        1     56.210046                    8.0                      0.0   \n",
       "9999        0     50.000000                   13.0                      3.0   \n",
       "\n",
       "      Control_Metric  Turbulence_In_gforces  Cabin_Temperature  \\\n",
       "0          71.285324               0.272118              78.04   \n",
       "1          72.288058               0.423939              84.54   \n",
       "2          66.362808               0.322604              78.86   \n",
       "3          74.703737               0.337029              81.79   \n",
       "4          47.948952               0.541140              77.16   \n",
       "...              ...                    ...                ...   \n",
       "9995       63.445761               0.482359              78.64   \n",
       "9996       62.169553               0.421775              79.77   \n",
       "9997       69.598906               0.318277              80.37   \n",
       "9998       39.835916               0.598118              76.92   \n",
       "9999       45.487694               0.382467              77.46   \n",
       "\n",
       "     Accident_Type_Code  Max_Elevation Violations  Adverse_Weather_Metric  \n",
       "0                     2   31335.476824          3                0.424352  \n",
       "1                     2   26024.711057          2                0.352350  \n",
       "2                     7   39269.053927          3                0.003364  \n",
       "3                     3   42771.499200          1                0.211728  \n",
       "4                     3   35509.228515          2                0.176883  \n",
       "...                 ...            ...        ...                     ...  \n",
       "9995                  5   38537.363408          2                0.026150  \n",
       "9996                  4   40846.916900          2                0.074898  \n",
       "9997                  3   33771.996300          3                0.168173  \n",
       "9998                  5   39820.419251          2                0.026381  \n",
       "9999                  5   26005.322987          2                0.017036  \n",
       "\n",
       "[10000 rows x 11 columns]"
      ]
     },
     "execution_count": 45,
     "metadata": {},
     "output_type": "execute_result"
    }
   ],
   "source": [
    "data_train.drop_duplicates()"
   ]
  },
  {
   "cell_type": "code",
   "execution_count": 46,
   "metadata": {},
   "outputs": [
    {
     "data": {
      "text/html": [
       "<div>\n",
       "<style scoped>\n",
       "    .dataframe tbody tr th:only-of-type {\n",
       "        vertical-align: middle;\n",
       "    }\n",
       "\n",
       "    .dataframe tbody tr th {\n",
       "        vertical-align: top;\n",
       "    }\n",
       "\n",
       "    .dataframe thead th {\n",
       "        text-align: right;\n",
       "    }\n",
       "</style>\n",
       "<table border=\"1\" class=\"dataframe\">\n",
       "  <thead>\n",
       "    <tr style=\"text-align: right;\">\n",
       "      <th></th>\n",
       "      <th>Safety_Score</th>\n",
       "      <th>Days_Since_Inspection</th>\n",
       "      <th>Total_Safety_Complaints</th>\n",
       "      <th>Control_Metric</th>\n",
       "      <th>Turbulence_In_gforces</th>\n",
       "      <th>Cabin_Temperature</th>\n",
       "      <th>Accident_Type_Code</th>\n",
       "      <th>Max_Elevation</th>\n",
       "      <th>Violations</th>\n",
       "      <th>Adverse_Weather_Metric</th>\n",
       "    </tr>\n",
       "  </thead>\n",
       "  <tbody>\n",
       "    <tr>\n",
       "      <td>0</td>\n",
       "      <td>19.497717</td>\n",
       "      <td>16.0</td>\n",
       "      <td>6.0</td>\n",
       "      <td>72.151322</td>\n",
       "      <td>0.388959</td>\n",
       "      <td>78.32</td>\n",
       "      <td>4</td>\n",
       "      <td>37949.724386</td>\n",
       "      <td>2</td>\n",
       "      <td>0.069692</td>\n",
       "    </tr>\n",
       "    <tr>\n",
       "      <td>1</td>\n",
       "      <td>58.173516</td>\n",
       "      <td>15.0</td>\n",
       "      <td>3.0</td>\n",
       "      <td>64.585232</td>\n",
       "      <td>0.250841</td>\n",
       "      <td>78.60</td>\n",
       "      <td>7</td>\n",
       "      <td>30194.805567</td>\n",
       "      <td>2</td>\n",
       "      <td>0.002777</td>\n",
       "    </tr>\n",
       "    <tr>\n",
       "      <td>2</td>\n",
       "      <td>33.287671</td>\n",
       "      <td>15.0</td>\n",
       "      <td>3.0</td>\n",
       "      <td>64.721969</td>\n",
       "      <td>0.336669</td>\n",
       "      <td>86.96</td>\n",
       "      <td>6</td>\n",
       "      <td>17572.925484</td>\n",
       "      <td>1</td>\n",
       "      <td>0.004316</td>\n",
       "    </tr>\n",
       "    <tr>\n",
       "      <td>3</td>\n",
       "      <td>3.287671</td>\n",
       "      <td>21.0</td>\n",
       "      <td>5.0</td>\n",
       "      <td>66.362808</td>\n",
       "      <td>0.421775</td>\n",
       "      <td>80.86</td>\n",
       "      <td>3</td>\n",
       "      <td>40209.186341</td>\n",
       "      <td>2</td>\n",
       "      <td>0.199990</td>\n",
       "    </tr>\n",
       "    <tr>\n",
       "      <td>4</td>\n",
       "      <td>10.867580</td>\n",
       "      <td>18.0</td>\n",
       "      <td>2.0</td>\n",
       "      <td>56.107566</td>\n",
       "      <td>0.313228</td>\n",
       "      <td>79.22</td>\n",
       "      <td>2</td>\n",
       "      <td>35495.525408</td>\n",
       "      <td>2</td>\n",
       "      <td>0.483696</td>\n",
       "    </tr>\n",
       "    <tr>\n",
       "      <td>...</td>\n",
       "      <td>...</td>\n",
       "      <td>...</td>\n",
       "      <td>...</td>\n",
       "      <td>...</td>\n",
       "      <td>...</td>\n",
       "      <td>...</td>\n",
       "      <td>...</td>\n",
       "      <td>...</td>\n",
       "      <td>...</td>\n",
       "      <td>...</td>\n",
       "    </tr>\n",
       "    <tr>\n",
       "      <td>2495</td>\n",
       "      <td>68.127854</td>\n",
       "      <td>8.0</td>\n",
       "      <td>11.0</td>\n",
       "      <td>49.680948</td>\n",
       "      <td>0.470819</td>\n",
       "      <td>77.80</td>\n",
       "      <td>2</td>\n",
       "      <td>48251.586622</td>\n",
       "      <td>2</td>\n",
       "      <td>0.659387</td>\n",
       "    </tr>\n",
       "    <tr>\n",
       "      <td>2496</td>\n",
       "      <td>54.840183</td>\n",
       "      <td>9.0</td>\n",
       "      <td>9.0</td>\n",
       "      <td>71.194166</td>\n",
       "      <td>0.417087</td>\n",
       "      <td>79.77</td>\n",
       "      <td>6</td>\n",
       "      <td>20761.984416</td>\n",
       "      <td>1</td>\n",
       "      <td>0.005010</td>\n",
       "    </tr>\n",
       "    <tr>\n",
       "      <td>2497</td>\n",
       "      <td>36.712329</td>\n",
       "      <td>14.0</td>\n",
       "      <td>10.0</td>\n",
       "      <td>91.203282</td>\n",
       "      <td>0.313950</td>\n",
       "      <td>83.96</td>\n",
       "      <td>6</td>\n",
       "      <td>36676.100601</td>\n",
       "      <td>2</td>\n",
       "      <td>0.008629</td>\n",
       "    </tr>\n",
       "    <tr>\n",
       "      <td>2498</td>\n",
       "      <td>38.721461</td>\n",
       "      <td>13.0</td>\n",
       "      <td>14.0</td>\n",
       "      <td>73.154057</td>\n",
       "      <td>0.275003</td>\n",
       "      <td>77.38</td>\n",
       "      <td>6</td>\n",
       "      <td>24211.359510</td>\n",
       "      <td>1</td>\n",
       "      <td>0.006247</td>\n",
       "    </tr>\n",
       "    <tr>\n",
       "      <td>2499</td>\n",
       "      <td>36.073059</td>\n",
       "      <td>11.0</td>\n",
       "      <td>1.0</td>\n",
       "      <td>60.665451</td>\n",
       "      <td>0.256250</td>\n",
       "      <td>84.56</td>\n",
       "      <td>5</td>\n",
       "      <td>35920.146239</td>\n",
       "      <td>0</td>\n",
       "      <td>0.024409</td>\n",
       "    </tr>\n",
       "  </tbody>\n",
       "</table>\n",
       "<p>2500 rows × 10 columns</p>\n",
       "</div>"
      ],
      "text/plain": [
       "      Safety_Score  Days_Since_Inspection  Total_Safety_Complaints  \\\n",
       "0        19.497717                   16.0                      6.0   \n",
       "1        58.173516                   15.0                      3.0   \n",
       "2        33.287671                   15.0                      3.0   \n",
       "3         3.287671                   21.0                      5.0   \n",
       "4        10.867580                   18.0                      2.0   \n",
       "...            ...                    ...                      ...   \n",
       "2495     68.127854                    8.0                     11.0   \n",
       "2496     54.840183                    9.0                      9.0   \n",
       "2497     36.712329                   14.0                     10.0   \n",
       "2498     38.721461                   13.0                     14.0   \n",
       "2499     36.073059                   11.0                      1.0   \n",
       "\n",
       "      Control_Metric  Turbulence_In_gforces  Cabin_Temperature  \\\n",
       "0          72.151322               0.388959              78.32   \n",
       "1          64.585232               0.250841              78.60   \n",
       "2          64.721969               0.336669              86.96   \n",
       "3          66.362808               0.421775              80.86   \n",
       "4          56.107566               0.313228              79.22   \n",
       "...              ...                    ...                ...   \n",
       "2495       49.680948               0.470819              77.80   \n",
       "2496       71.194166               0.417087              79.77   \n",
       "2497       91.203282               0.313950              83.96   \n",
       "2498       73.154057               0.275003              77.38   \n",
       "2499       60.665451               0.256250              84.56   \n",
       "\n",
       "     Accident_Type_Code  Max_Elevation Violations  Adverse_Weather_Metric  \n",
       "0                     4   37949.724386          2                0.069692  \n",
       "1                     7   30194.805567          2                0.002777  \n",
       "2                     6   17572.925484          1                0.004316  \n",
       "3                     3   40209.186341          2                0.199990  \n",
       "4                     2   35495.525408          2                0.483696  \n",
       "...                 ...            ...        ...                     ...  \n",
       "2495                  2   48251.586622          2                0.659387  \n",
       "2496                  6   20761.984416          1                0.005010  \n",
       "2497                  6   36676.100601          2                0.008629  \n",
       "2498                  6   24211.359510          1                0.006247  \n",
       "2499                  5   35920.146239          0                0.024409  \n",
       "\n",
       "[2500 rows x 10 columns]"
      ]
     },
     "execution_count": 46,
     "metadata": {},
     "output_type": "execute_result"
    }
   ],
   "source": [
    "data_test.drop_duplicates()"
   ]
  },
  {
   "cell_type": "code",
   "execution_count": 47,
   "metadata": {},
   "outputs": [],
   "source": [
    "num_data= data_train.loc[:,num_cols]\n",
    "cat_data= data_train.loc[:,cat_cols]"
   ]
  },
  {
   "cell_type": "code",
   "execution_count": 48,
   "metadata": {},
   "outputs": [],
   "source": [
    "num_data_test= data_test.loc[:,num_cols_test]\n",
    "cat_data_test= data_test.loc[:,cat_cols_test]"
   ]
  },
  {
   "cell_type": "code",
   "execution_count": 49,
   "metadata": {},
   "outputs": [],
   "source": [
    "cat_data = pd.get_dummies(cat_data,columns=['Accident_Type_Code','Violations'],drop_first=True)"
   ]
  },
  {
   "cell_type": "code",
   "execution_count": 50,
   "metadata": {},
   "outputs": [],
   "source": [
    "cat_data_test = pd.get_dummies(cat_data_test,columns=['Accident_Type_Code','Violations'],drop_first=True)"
   ]
  },
  {
   "cell_type": "code",
   "execution_count": 51,
   "metadata": {},
   "outputs": [
    {
     "data": {
      "text/plain": [
       "<matplotlib.axes._subplots.AxesSubplot at 0x190452c2630>"
      ]
     },
     "execution_count": 51,
     "metadata": {},
     "output_type": "execute_result"
    },
    {
     "data": {
      "image/png": "[encoded data removed]",
      "text/plain": [
       "<Figure size 720x360 with 2 Axes>"
      ]
     },
     "metadata": {},
     "output_type": "display_data"
    }
   ],
   "source": [
    "temp1= data_train.corr()\n",
    "fig = plt.figure(figsize=(10,5))\n",
    "sns.heatmap(temp1,cmap= 'YlGnBu',annot= True)"
   ]
  },
  {
   "cell_type": "code",
   "execution_count": 52,
   "metadata": {},
   "outputs": [],
   "source": [
    "data_train= pd.concat([num_data,cat_data],axis=1)"
   ]
  },
  {
   "cell_type": "code",
   "execution_count": 53,
   "metadata": {},
   "outputs": [],
   "source": [
    "data_test= pd.concat([num_data_test,cat_data_test],axis=1)"
   ]
  },
  {
   "cell_type": "code",
   "execution_count": 54,
   "metadata": {},
   "outputs": [],
   "source": [
    "x = data_train.drop([\"Severity\"],axis=1)\n",
    "y = data_train[\"Severity\"]"
   ]
  },
  {
   "cell_type": "code",
   "execution_count": 55,
   "metadata": {},
   "outputs": [],
   "source": [
    "x_train,x_validation,y_train,y_validation= train_test_split(x,y,test_size=0.25,random_state=12)"
   ]
  },
  {
   "cell_type": "code",
   "execution_count": 56,
   "metadata": {},
   "outputs": [
    {
     "name": "stdout",
     "output_type": "stream",
     "text": [
      "(7500, 19)\n",
      "(2500, 19)\n",
      "(7500,)\n",
      "(2500,)\n",
      "(2500, 19)\n"
     ]
    }
   ],
   "source": [
    "print(x_train.shape)\n",
    "print(x_validation.shape)\n",
    "print(y_train.shape)\n",
    "print(y_validation.shape)\n",
    "print(data_test.shape)"
   ]
  },
  {
   "cell_type": "code",
   "execution_count": 57,
   "metadata": {},
   "outputs": [],
   "source": [
    "#standardizer= StandardScaler()\n",
    "#standardizer.fit_transform(x_train)"
   ]
  },
  {
   "cell_type": "code",
   "execution_count": 58,
   "metadata": {},
   "outputs": [],
   "source": [
    "#standardizer.transform(x_validation)\n",
    "#standardizer.transform(data_test)"
   ]
  },
  {
   "cell_type": "code",
   "execution_count": 59,
   "metadata": {},
   "outputs": [],
   "source": [
    "from sklearn.linear_model import LogisticRegression\n"
   ]
  },
  {
   "cell_type": "code",
   "execution_count": 60,
   "metadata": {},
   "outputs": [
    {
     "name": "stderr",
     "output_type": "stream",
     "text": [
      "C:\\Users\\manis\\Anaconda3\\Anaconda\\lib\\site-packages\\sklearn\\linear_model\\_logistic.py:939: ConvergenceWarning: lbfgs failed to converge (status=1):\n",
      "STOP: TOTAL NO. of ITERATIONS REACHED LIMIT.\n",
      "\n",
      "Increase the number of iterations (max_iter) or scale the data as shown in:\n",
      "    https://scikit-learn.org/stable/modules/preprocessing.html.\n",
      "Please also refer to the documentation for alternative solver options:\n",
      "    https://scikit-learn.org/stable/modules/linear_model.html#logistic-regression\n",
      "  extra_warning_msg=_LOGISTIC_SOLVER_CONVERGENCE_MSG)\n"
     ]
    }
   ],
   "source": [
    "logreg = LogisticRegression()\n",
    "logreg.fit(x_train, y_train)\n",
    "y_pred_valid1 = logreg.predict(x_validation)\n",
    "y_pred_train1= logreg.predict(x_train)"
   ]
  },
  {
   "cell_type": "code",
   "execution_count": 61,
   "metadata": {},
   "outputs": [],
   "source": [
    "from sklearn.metrics import f1_score\n",
    "from sklearn import metrics"
   ]
  },
  {
   "cell_type": "code",
   "execution_count": 62,
   "metadata": {},
   "outputs": [
    {
     "name": "stdout",
     "output_type": "stream",
     "text": [
      "0.40738008945532067\n",
      "0.4014806144377659\n"
     ]
    }
   ],
   "source": [
    "print(metrics.f1_score(y_train, y_pred_train1,average= 'weighted'))\n",
    "print(metrics.f1_score(y_validation, y_pred_valid1,average= 'weighted'))"
   ]
  },
  {
   "cell_type": "code",
   "execution_count": 63,
   "metadata": {},
   "outputs": [],
   "source": [
    "from sklearn.tree import DecisionTreeClassifier"
   ]
  },
  {
   "cell_type": "code",
   "execution_count": 64,
   "metadata": {},
   "outputs": [],
   "source": [
    "decision = DecisionTreeClassifier(max_depth=8,max_features='log2',class_weight='balanced',random_state=1,min_samples_split=5,splitter='random')\n",
    "decision.fit(x_train, y_train)\n",
    "y_pred_valid2 = decision.predict(x_validation)\n",
    "y_pred_train2= decision.predict(x_train)"
   ]
  },
  {
   "cell_type": "code",
   "execution_count": 65,
   "metadata": {},
   "outputs": [
    {
     "name": "stdout",
     "output_type": "stream",
     "text": [
      "0.5723967757908938\n",
      "0.5598207569308031\n"
     ]
    }
   ],
   "source": [
    "print(metrics.f1_score(y_train, y_pred_train2,average= 'weighted'))\n",
    "print(metrics.f1_score(y_validation, y_pred_valid2,average= 'weighted'))"
   ]
  },
  {
   "cell_type": "code",
   "execution_count": 66,
   "metadata": {},
   "outputs": [],
   "source": [
    "y_test2= decision.predict(data_test)"
   ]
  },
  {
   "cell_type": "code",
   "execution_count": 67,
   "metadata": {},
   "outputs": [
    {
     "data": {
      "text/plain": [
       "array([0, 2, 3, ..., 3, 3, 1], dtype=int64)"
      ]
     },
     "execution_count": 67,
     "metadata": {},
     "output_type": "execute_result"
    }
   ],
   "source": [
    "y_test2"
   ]
  },
  {
   "cell_type": "code",
   "execution_count": 68,
   "metadata": {},
   "outputs": [],
   "source": [
    "submission= data_test1[['Accident_ID']]"
   ]
  },
  {
   "cell_type": "code",
   "execution_count": 69,
   "metadata": {},
   "outputs": [
    {
     "data": {
      "text/html": [
       "<div>\n",
       "<style scoped>\n",
       "    .dataframe tbody tr th:only-of-type {\n",
       "        vertical-align: middle;\n",
       "    }\n",
       "\n",
       "    .dataframe tbody tr th {\n",
       "        vertical-align: top;\n",
       "    }\n",
       "\n",
       "    .dataframe thead th {\n",
       "        text-align: right;\n",
       "    }\n",
       "</style>\n",
       "<table border=\"1\" class=\"dataframe\">\n",
       "  <thead>\n",
       "    <tr style=\"text-align: right;\">\n",
       "      <th></th>\n",
       "      <th>Accident_ID</th>\n",
       "    </tr>\n",
       "  </thead>\n",
       "  <tbody>\n",
       "    <tr>\n",
       "      <td>0</td>\n",
       "      <td>1</td>\n",
       "    </tr>\n",
       "    <tr>\n",
       "      <td>1</td>\n",
       "      <td>10</td>\n",
       "    </tr>\n",
       "    <tr>\n",
       "      <td>2</td>\n",
       "      <td>14</td>\n",
       "    </tr>\n",
       "    <tr>\n",
       "      <td>3</td>\n",
       "      <td>17</td>\n",
       "    </tr>\n",
       "    <tr>\n",
       "      <td>4</td>\n",
       "      <td>21</td>\n",
       "    </tr>\n",
       "  </tbody>\n",
       "</table>\n",
       "</div>"
      ],
      "text/plain": [
       "   Accident_ID\n",
       "0            1\n",
       "1           10\n",
       "2           14\n",
       "3           17\n",
       "4           21"
      ]
     },
     "execution_count": 69,
     "metadata": {},
     "output_type": "execute_result"
    }
   ],
   "source": [
    "submission.head()"
   ]
  },
  {
   "cell_type": "code",
   "execution_count": 70,
   "metadata": {},
   "outputs": [],
   "source": [
    "sub1= pd.DataFrame()\n",
    "sub1= submission\n"
   ]
  },
  {
   "cell_type": "code",
   "execution_count": 71,
   "metadata": {},
   "outputs": [
    {
     "name": "stderr",
     "output_type": "stream",
     "text": [
      "C:\\Users\\manis\\Anaconda3\\Anaconda\\lib\\site-packages\\ipykernel_launcher.py:1: SettingWithCopyWarning: \n",
      "A value is trying to be set on a copy of a slice from a DataFrame.\n",
      "Try using .loc[row_indexer,col_indexer] = value instead\n",
      "\n",
      "See the caveats in the documentation: http://pandas.pydata.org/pandas-docs/stable/user_guide/indexing.html#returning-a-view-versus-a-copy\n",
      "  \"\"\"Entry point for launching an IPython kernel.\n"
     ]
    }
   ],
   "source": [
    "sub1[\"Severity\"]= pd.Series(y_test2).map({0:'Highly_Fatal_And_Damaging',1:'Minor_Damage_And_Injuries',2:'Significant_Damage_And_Fatalities',3:'Significant_Damage_And_Serious_Injuries'})"
   ]
  },
  {
   "cell_type": "code",
   "execution_count": 72,
   "metadata": {},
   "outputs": [
    {
     "data": {
      "text/plain": [
       "(2500, 2)"
      ]
     },
     "execution_count": 72,
     "metadata": {},
     "output_type": "execute_result"
    }
   ],
   "source": [
    "sub1.shape"
   ]
  },
  {
   "cell_type": "code",
   "execution_count": 73,
   "metadata": {},
   "outputs": [],
   "source": [
    "sub1.to_csv('sub1.csv',index= False)"
   ]
  },
  {
   "cell_type": "code",
   "execution_count": 74,
   "metadata": {},
   "outputs": [
    {
     "data": {
      "text/plain": [
       "Highly_Fatal_And_Damaging                  877\n",
       "Significant_Damage_And_Serious_Injuries    670\n",
       "Minor_Damage_And_Injuries                  604\n",
       "Significant_Damage_And_Fatalities          349\n",
       "Name: Severity, dtype: int64"
      ]
     },
     "execution_count": 74,
     "metadata": {},
     "output_type": "execute_result"
    }
   ],
   "source": [
    "sub1.Severity.value_counts()"
   ]
  },
  {
   "cell_type": "code",
   "execution_count": 75,
   "metadata": {},
   "outputs": [
    {
     "data": {
      "text/html": [
       "<div>\n",
       "<style scoped>\n",
       "    .dataframe tbody tr th:only-of-type {\n",
       "        vertical-align: middle;\n",
       "    }\n",
       "\n",
       "    .dataframe tbody tr th {\n",
       "        vertical-align: top;\n",
       "    }\n",
       "\n",
       "    .dataframe thead th {\n",
       "        text-align: right;\n",
       "    }\n",
       "</style>\n",
       "<table border=\"1\" class=\"dataframe\">\n",
       "  <thead>\n",
       "    <tr style=\"text-align: right;\">\n",
       "      <th></th>\n",
       "      <th>Accident_ID</th>\n",
       "      <th>Severity</th>\n",
       "    </tr>\n",
       "  </thead>\n",
       "  <tbody>\n",
       "    <tr>\n",
       "      <td>0</td>\n",
       "      <td>1</td>\n",
       "      <td>Highly_Fatal_And_Damaging</td>\n",
       "    </tr>\n",
       "    <tr>\n",
       "      <td>1</td>\n",
       "      <td>10</td>\n",
       "      <td>Significant_Damage_And_Fatalities</td>\n",
       "    </tr>\n",
       "    <tr>\n",
       "      <td>2</td>\n",
       "      <td>14</td>\n",
       "      <td>Significant_Damage_And_Serious_Injuries</td>\n",
       "    </tr>\n",
       "    <tr>\n",
       "      <td>3</td>\n",
       "      <td>17</td>\n",
       "      <td>Significant_Damage_And_Serious_Injuries</td>\n",
       "    </tr>\n",
       "    <tr>\n",
       "      <td>4</td>\n",
       "      <td>21</td>\n",
       "      <td>Highly_Fatal_And_Damaging</td>\n",
       "    </tr>\n",
       "  </tbody>\n",
       "</table>\n",
       "</div>"
      ],
      "text/plain": [
       "   Accident_ID                                 Severity\n",
       "0            1                Highly_Fatal_And_Damaging\n",
       "1           10        Significant_Damage_And_Fatalities\n",
       "2           14  Significant_Damage_And_Serious_Injuries\n",
       "3           17  Significant_Damage_And_Serious_Injuries\n",
       "4           21                Highly_Fatal_And_Damaging"
      ]
     },
     "execution_count": 75,
     "metadata": {},
     "output_type": "execute_result"
    }
   ],
   "source": [
    "sub1.head()"
   ]
  },
  {
   "cell_type": "code",
   "execution_count": 76,
   "metadata": {},
   "outputs": [],
   "source": [
    "from xgboost import XGBClassifier"
   ]
  },
  {
   "cell_type": "code",
   "execution_count": 77,
   "metadata": {},
   "outputs": [],
   "source": [
    "xgbc= XGBClassifier(learning_rate=0.01,n_estimators=50,max_depth=12,booster='dart',objective='multi:softmax',nthread=3)"
   ]
  },
  {
   "cell_type": "code",
   "execution_count": 78,
   "metadata": {},
   "outputs": [],
   "source": [
    "xgbc.fit(x_train, y_train)\n",
    "y_pred_valid3 = xgbc.predict(x_validation)\n",
    "y_pred_train3= xgbc.predict(x_train)"
   ]
  },
  {
   "cell_type": "code",
   "execution_count": 79,
   "metadata": {},
   "outputs": [
    {
     "name": "stdout",
     "output_type": "stream",
     "text": [
      "0.9838737898679656\n",
      "0.9328764312393488\n"
     ]
    }
   ],
   "source": [
    "print(metrics.f1_score(y_train, y_pred_train3,average= 'weighted'))\n",
    "print(metrics.f1_score(y_validation, y_pred_valid3,average= 'weighted'))"
   ]
  },
  {
   "cell_type": "code",
   "execution_count": 80,
   "metadata": {},
   "outputs": [],
   "source": [
    "from mlxtend.plotting import plot_learning_curves"
   ]
  },
  {
   "cell_type": "code",
   "execution_count": 59,
   "metadata": {},
   "outputs": [
    {
     "data": {
      "text/plain": [
       "([0.021333333333333333,\n",
       "  0.016666666666666666,\n",
       "  0.011111111111111112,\n",
       "  0.01633333333333333,\n",
       "  0.013333333333333334,\n",
       "  0.015111111111111112,\n",
       "  0.01561904761904762,\n",
       "  0.014666666666666666,\n",
       "  0.016444444444444446,\n",
       "  0.016133333333333333],\n",
       " [0.2128,\n",
       "  0.1536,\n",
       "  0.1128,\n",
       "  0.1072,\n",
       "  0.0892,\n",
       "  0.0796,\n",
       "  0.0748,\n",
       "  0.0736,\n",
       "  0.068,\n",
       "  0.0672])"
      ]
     },
     "execution_count": 59,
     "metadata": {},
     "output_type": "execute_result"
    },
    {
     "data": {
      "image/png": "[encoded data removed]",
      "text/plain": [
       "<Figure size 432x288 with 1 Axes>"
      ]
     },
     "metadata": {},
     "output_type": "display_data"
    }
   ],
   "source": [
    "plot_learning_curves(x_train,y_train,x_validation,y_validation,xgbc)"
   ]
  },
  {
   "cell_type": "code",
   "execution_count": 81,
   "metadata": {},
   "outputs": [],
   "source": [
    "y_test3= xgbc.predict(data_test)"
   ]
  },
  {
   "cell_type": "code",
   "execution_count": 82,
   "metadata": {},
   "outputs": [
    {
     "data": {
      "text/plain": [
       "array([0, 2, 3, ..., 3, 3, 1], dtype=int64)"
      ]
     },
     "execution_count": 82,
     "metadata": {},
     "output_type": "execute_result"
    }
   ],
   "source": [
    "y_test2"
   ]
  },
  {
   "cell_type": "code",
   "execution_count": 83,
   "metadata": {},
   "outputs": [],
   "source": [
    "submission= data_test1[['Accident_ID']]"
   ]
  },
  {
   "cell_type": "code",
   "execution_count": 84,
   "metadata": {},
   "outputs": [],
   "source": [
    "sub2= pd.DataFrame()\n",
    "sub2= submission"
   ]
  },
  {
   "cell_type": "code",
   "execution_count": 85,
   "metadata": {},
   "outputs": [
    {
     "name": "stderr",
     "output_type": "stream",
     "text": [
      "C:\\Users\\manis\\Anaconda3\\Anaconda\\lib\\site-packages\\ipykernel_launcher.py:1: SettingWithCopyWarning: \n",
      "A value is trying to be set on a copy of a slice from a DataFrame.\n",
      "Try using .loc[row_indexer,col_indexer] = value instead\n",
      "\n",
      "See the caveats in the documentation: http://pandas.pydata.org/pandas-docs/stable/user_guide/indexing.html#returning-a-view-versus-a-copy\n",
      "  \"\"\"Entry point for launching an IPython kernel.\n"
     ]
    }
   ],
   "source": [
    "sub2[\"Severity\"]= pd.Series(y_test3).map({0:'Highly_Fatal_And_Damaging',1:'Minor_Damage_And_Injuries',2:'Significant_Damage_And_Fatalities',3:'Significant_Damage_And_Serious_Injuries'})"
   ]
  },
  {
   "cell_type": "code",
   "execution_count": 86,
   "metadata": {},
   "outputs": [
    {
     "data": {
      "text/plain": [
       "(2500, 2)"
      ]
     },
     "execution_count": 86,
     "metadata": {},
     "output_type": "execute_result"
    }
   ],
   "source": [
    "sub2.shape"
   ]
  },
  {
   "cell_type": "code",
   "execution_count": 87,
   "metadata": {},
   "outputs": [],
   "source": [
    "sub2.to_csv('sub2.csv',index= False)"
   ]
  },
  {
   "cell_type": "code",
   "execution_count": 88,
   "metadata": {},
   "outputs": [
    {
     "data": {
      "text/plain": [
       "Highly_Fatal_And_Damaging                  762\n",
       "Minor_Damage_And_Injuries                  686\n",
       "Significant_Damage_And_Serious_Injuries    639\n",
       "Significant_Damage_And_Fatalities          413\n",
       "Name: Severity, dtype: int64"
      ]
     },
     "execution_count": 88,
     "metadata": {},
     "output_type": "execute_result"
    }
   ],
   "source": [
    "sub2.Severity.value_counts()"
   ]
  },
  {
   "cell_type": "code",
   "execution_count": 71,
   "metadata": {
    "scrolled": true
   },
   "outputs": [
    {
     "name": "stdout",
     "output_type": "stream",
     "text": [
      "Requirement already satisfied: tpot in c:\\users\\manis\\anaconda3\\anaconda\\lib\\site-packages (0.11.1)\n",
      "Requirement already satisfied: pandas>=0.24.2 in c:\\users\\manis\\anaconda3\\anaconda\\lib\\site-packages (from tpot) (0.25.1)\n",
      "Requirement already satisfied: joblib>=0.13.2 in c:\\users\\manis\\anaconda3\\anaconda\\lib\\site-packages (from tpot) (0.13.2)\n",
      "Requirement already satisfied: deap>=1.2 in c:\\users\\manis\\anaconda3\\anaconda\\lib\\site-packages (from tpot) (1.3.1)\n",
      "Requirement already satisfied: scikit-learn>=0.22.0 in c:\\users\\manis\\anaconda3\\anaconda\\lib\\site-packages (from tpot) (0.22)\n",
      "Requirement already satisfied: numpy>=1.16.3 in c:\\users\\manis\\appdata\\roaming\\python\\python36\\site-packages (from tpot) (1.17.4)\n",
      "Requirement already satisfied: scipy>=1.3.1 in c:\\users\\manis\\anaconda3\\anaconda\\lib\\site-packages (from tpot) (1.3.1)\n",
      "Requirement already satisfied: tqdm>=4.36.1 in c:\\users\\manis\\anaconda3\\anaconda\\lib\\site-packages (from tpot) (4.36.1)\n",
      "Requirement already satisfied: update-checker>=0.16 in c:\\users\\manis\\anaconda3\\anaconda\\lib\\site-packages (from tpot) (0.16)\n",
      "Requirement already satisfied: stopit>=1.1.1 in c:\\users\\manis\\anaconda3\\anaconda\\lib\\site-packages (from tpot) (1.1.2)\n",
      "Requirement already satisfied: python-dateutil>=2.6.1 in c:\\users\\manis\\anaconda3\\anaconda\\lib\\site-packages (from pandas>=0.24.2->tpot) (2.8.0)\n",
      "Requirement already satisfied: pytz>=2017.2 in c:\\users\\manis\\anaconda3\\anaconda\\lib\\site-packages (from pandas>=0.24.2->tpot) (2019.3)\n",
      "Requirement already satisfied: requests>=2.3.0 in c:\\users\\manis\\anaconda3\\anaconda\\lib\\site-packages (from update-checker>=0.16->tpot) (2.22.0)\n",
      "Requirement already satisfied: six>=1.5 in c:\\users\\manis\\anaconda3\\anaconda\\lib\\site-packages (from python-dateutil>=2.6.1->pandas>=0.24.2->tpot) (1.12.0)\n",
      "Requirement already satisfied: urllib3!=1.25.0,!=1.25.1,<1.26,>=1.21.1 in c:\\users\\manis\\anaconda3\\anaconda\\lib\\site-packages (from requests>=2.3.0->update-checker>=0.16->tpot) (1.24.2)\n",
      "Requirement already satisfied: certifi>=2017.4.17 in c:\\users\\manis\\anaconda3\\anaconda\\lib\\site-packages (from requests>=2.3.0->update-checker>=0.16->tpot) (2019.9.11)\n",
      "Requirement already satisfied: chardet<3.1.0,>=3.0.2 in c:\\users\\manis\\anaconda3\\anaconda\\lib\\site-packages (from requests>=2.3.0->update-checker>=0.16->tpot) (3.0.4)\n",
      "Requirement already satisfied: idna<2.9,>=2.5 in c:\\users\\manis\\anaconda3\\anaconda\\lib\\site-packages (from requests>=2.3.0->update-checker>=0.16->tpot) (2.8)\n",
      "Note: you may need to restart the kernel to use updated packages.\n"
     ]
    }
   ],
   "source": [
    "#pip install tpot"
   ]
  },
  {
   "cell_type": "code",
   "execution_count": 72,
   "metadata": {},
   "outputs": [],
   "source": [
    "from tpot import TPOTRegressor"
   ]
  },
  {
   "cell_type": "code",
   "execution_count": 75,
   "metadata": {},
   "outputs": [
    {
     "data": {
      "application/vnd.jupyter.widget-view+json": {
       "model_id": "",
       "version_major": 2,
       "version_minor": 0
      },
      "text/plain": [
       "HBox(children=(IntProgress(value=0, description='Optimization Progress', max=5100, style=ProgressStyle(descrip…"
      ]
     },
     "metadata": {},
     "output_type": "display_data"
    },
    {
     "name": "stdout",
     "output_type": "stream",
     "text": [
      "Generation 1 - Current best internal CV score: 0.1160979287268475\n",
      "Generation 2 - Current best internal CV score: 0.1160979287268475\n",
      "Generation 3 - Current best internal CV score: 0.14713723947505122\n",
      "Generation 4 - Current best internal CV score: 0.14713723947505122\n",
      "Generation 5 - Current best internal CV score: 0.14713723947505122\n",
      "Generation 6 - Current best internal CV score: 0.14713723947505122\n",
      "Generation 7 - Current best internal CV score: 0.14713723947505122\n",
      "Generation 8 - Current best internal CV score: 0.14713723947505122\n",
      "Generation 9 - Current best internal CV score: 0.14713723947505122\n",
      "Generation 10 - Current best internal CV score: 0.14713723947505122\n",
      "Generation 11 - Current best internal CV score: 0.14713723947505122\n",
      "Generation 12 - Current best internal CV score: 0.14713723947505122\n",
      "Generation 13 - Current best internal CV score: 0.14713723947505122\n",
      "Generation 14 - Current best internal CV score: 0.14713723947505122\n",
      "Generation 15 - Current best internal CV score: 0.14713723947505122\n",
      "Generation 16 - Current best internal CV score: 0.14713723947505122\n",
      "Generation 17 - Current best internal CV score: 0.14713723947505122\n",
      "Generation 18 - Current best internal CV score: 0.14713723947505122\n",
      "Generation 19 - Current best internal CV score: 0.14713723947505122\n",
      "Generation 20 - Current best internal CV score: 0.14713723947505122\n",
      "Generation 21 - Current best internal CV score: 0.14713723947505122\n",
      "Generation 22 - Current best internal CV score: 0.14713723947505122\n",
      "Generation 23 - Current best internal CV score: 0.14713723947505122\n",
      "Generation 24 - Current best internal CV score: 0.14713723947505122\n",
      "Generation 25 - Current best internal CV score: 0.14713723947505122\n",
      "Generation 26 - Current best internal CV score: 0.14713723947505122\n",
      "Generation 27 - Current best internal CV score: 0.14713723947505122\n",
      "Generation 28 - Current best internal CV score: 0.14713723947505122\n",
      "Generation 29 - Current best internal CV score: 0.14713723947505122\n",
      "Generation 30 - Current best internal CV score: 0.14713723947505122\n",
      "Generation 31 - Current best internal CV score: 0.14713723947505122\n",
      "Generation 32 - Current best internal CV score: 0.14713723947505122\n",
      "Generation 33 - Current best internal CV score: 0.14713723947505122\n",
      "Generation 34 - Current best internal CV score: 0.14713723947505122\n",
      "Generation 35 - Current best internal CV score: 0.14713723947505122\n",
      "Generation 36 - Current best internal CV score: 0.14713723947505122\n",
      "Generation 37 - Current best internal CV score: 0.14713723947505122\n",
      "Generation 38 - Current best internal CV score: 0.14713723947505122\n",
      "Generation 39 - Current best internal CV score: 0.14713723947505122\n",
      "Generation 40 - Current best internal CV score: 0.14713723947505122\n",
      "Generation 41 - Current best internal CV score: 0.14713723947505122\n",
      "Generation 42 - Current best internal CV score: 0.14713723947505122\n",
      "Generation 43 - Current best internal CV score: 0.14713723947505122\n",
      "Generation 44 - Current best internal CV score: 0.14713723947505122\n",
      "Generation 45 - Current best internal CV score: 0.14713723947505122\n",
      "Generation 46 - Current best internal CV score: 0.14713723947505122\n",
      "Generation 47 - Current best internal CV score: 0.14713723947505122\n",
      "Generation 48 - Current best internal CV score: 0.14713723947505122\n",
      "Generation 49 - Current best internal CV score: 0.14713723947505122\n",
      "Generation 50 - Current best internal CV score: 0.14713723947505122\n",
      "\n",
      "Best pipeline: LinearSVR(SGDRegressor(input_matrix, alpha=0.001, eta0=1.0, fit_intercept=True, l1_ratio=0.5, learning_rate=constant, loss=squared_loss, penalty=elasticnet, power_t=10.0), C=5.0, dual=True, epsilon=0.01, loss=epsilon_insensitive, tol=0.001)\n"
     ]
    }
   ],
   "source": [
    "tpot_mod=TPOTRegressor(generations=50,population_size=100,verbosity=2,\n",
    "                       random_state=4,cv=10,mutation_rate=0.5,crossover_rate=0.1,n_jobs=-1,scoring='f1_weighted')\n",
    "tpot_mod.fit(x_train,y_train)\n",
    "tp_val_pred = tpot_mod.predict(x_validation)\n",
    "tp_train_pred = tpot_mod.predict(x_train)"
   ]
  },
  {
   "cell_type": "code",
   "execution_count": 107,
   "metadata": {},
   "outputs": [
    {
     "name": "stdout",
     "output_type": "stream",
     "text": [
      "0.14694017163596895\n",
      "0.12943116076970826\n"
     ]
    }
   ],
   "source": [
    "print(metrics.f1_score(y_train, tp_train_pred,average= 'weighted'))\n",
    "print(metrics.f1_score(y_validation, tp_val_pred,average= 'weighted'))"
   ]
  },
  {
   "cell_type": "code",
   "execution_count": null,
   "metadata": {},
   "outputs": [],
   "source": [
    "y_test4= tpot_mod.predict(data_test)"
   ]
  },
  {
   "cell_type": "code",
   "execution_count": null,
   "metadata": {},
   "outputs": [],
   "source": [
    "sub3= pd.DataFrame()\n",
    "sub3= submission"
   ]
  },
  {
   "cell_type": "code",
   "execution_count": null,
   "metadata": {},
   "outputs": [],
   "source": [
    "sub3[\"Severity\"]= pd.Series(y_test3).map({0:'Highly_Fatal_And_Damaging',1:'Minor_Damage_And_Injuries',2:'Significant_Damage_And_Fatalities',3:'Significant_Damage_And_Serious_Injuries'})"
   ]
  },
  {
   "cell_type": "code",
   "execution_count": null,
   "metadata": {},
   "outputs": [],
   "source": [
    "sub3.shape"
   ]
  },
  {
   "cell_type": "code",
   "execution_count": null,
   "metadata": {},
   "outputs": [],
   "source": [
    "sub3.to_csv('sub3.csv',index= False)"
   ]
  },
  {
   "cell_type": "code",
   "execution_count": null,
   "metadata": {},
   "outputs": [],
   "source": [
    "sub3.Severity.value_counts()"
   ]
  },
  {
   "cell_type": "code",
   "execution_count": null,
   "metadata": {},
   "outputs": [],
   "source": []
  }
 ],
 "metadata": {
  "kernelspec": {
   "display_name": "Python 3",
   "language": "python",
   "name": "python3"
  },
  "language_info": {
   "codemirror_mode": {
    "name": "ipython",
    "version": 3
   },
   "file_extension": ".py",
   "mimetype": "text/x-python",
   "name": "python",
   "nbconvert_exporter": "python",
   "pygments_lexer": "ipython3",
   "version": "3.6.9"
  }
 },
 "nbformat": 4,
 "nbformat_minor": 2
}
